{
 "cells": [
  {
   "cell_type": "code",
   "execution_count": null,
   "metadata": {},
   "outputs": [],
   "source": [
    "# default_exp httpapi"
   ]
  },
  {
   "cell_type": "markdown",
   "metadata": {},
   "source": [
    "# HTTP API\n",
    "\n",
    "> HTTP API based Python functions to interact with IPFS"
   ]
  },
  {
   "cell_type": "code",
   "execution_count": null,
   "metadata": {},
   "outputs": [],
   "source": [
    "#hide\n",
    "from nbdev.showdoc import *"
   ]
  },
  {
   "cell_type": "code",
   "execution_count": null,
   "metadata": {},
   "outputs": [],
   "source": [
    "#export\n",
    "import requests\n",
    "import json\n",
    "from fastcore.all import *"
   ]
  },
  {
   "cell_type": "code",
   "execution_count": null,
   "metadata": {},
   "outputs": [],
   "source": [
    "#export\n",
    "class IPFS:\n",
    "    def __init__(self, \n",
    "        coreadd:str=\"http://127.0.0.1:5001\", # HTTP address of the local IPFS daemon \n",
    "        coreapi:str=\"/api/v0\", # Core API address\n",
    "        local:bool=True, # If local uses local node, else uses Infura.io gateway\n",
    "    ):\n",
    "        if local:\n",
    "            self.coreurl = f\"{coreadd}{coreapi}\"\n",
    "        else: \n",
    "            self.coreurl = f\"{'https://ipfs.infura.io:5001/api/v0'}\"\n",
    "    \n",
    "    def add(self,\n",
    "        filepath:str, # Path to the file/directory to be added to IPFS\n",
    "        wrap_with_directory:str='false', # True if path is a directory\n",
    "        recursive:str='false', # Add directory paths recursively\n",
    "        chunker:str='size-262144', # Chunking algorithm, size-[bytes], rabin-[min]-[avg]-[max] or buzhash\n",
    "        pin:str='true', # Pin this object when adding\n",
    "        hash_:str='sha2-256', # Hash function to use. Implies CIDv1 if not sha2-256\n",
    "        progress:str='true', # Stream progress data\n",
    "        silent:str='false', # Write no output\n",
    "        cid_version:int=0, # CID version\n",
    "        **kwargs,\n",
    "    ):\n",
    "        \"add file/directory to ipfs\"\n",
    "\n",
    "        params = {}\n",
    "        params['wrap-with-directory'] = wrap_with_directory\n",
    "        params['chunker'] = chunker\n",
    "        params['pin'] = pin\n",
    "        params['hash'] = hash_\n",
    "        params['progress'] = progress\n",
    "        params['silent'] = silent\n",
    "        params['cid-version'] = cid_version\n",
    "        params.update(kwargs)\n",
    "    \n",
    "        files = {\n",
    "            'file': open(filepath, 'rb'),\n",
    "        }\n",
    "\n",
    "        response = requests.post(f'{self.coreurl}/add', \n",
    "                                 params=params, \n",
    "                                 files=files)\n",
    "\n",
    "        try:\n",
    "            print(\"Added\", filepath, \"to IPFS - \",\"Response\", response.status_code)\n",
    "            return response, json.loads(response.text.strip().split('\\n')[-1])\n",
    "\n",
    "        except:\n",
    "            print(response.status_code)\n",
    "            return response, \"\""
   ]
  },
  {
   "cell_type": "code",
   "execution_count": null,
   "metadata": {},
   "outputs": [
    {
     "data": {
      "text/markdown": [
       "<h4 id=\"IPFS.add\" class=\"doc_header\"><code>IPFS.add</code><a href=\"__main__.py#L13\" class=\"source_link\" style=\"float:right\">[source]</a></h4>\n",
       "\n",
       "> <code>IPFS.add</code>(**`filepath`**:`str`, **`wrap_with_directory`**:`str`=*`'false'`*, **`recursive`**:`str`=*`'false'`*, **`chunker`**:`str`=*`'size-262144'`*, **`pin`**:`str`=*`'true'`*, **`hash_`**:`str`=*`'sha2-256'`*, **`progress`**:`str`=*`'true'`*, **`silent`**:`str`=*`'false'`*, **`cid_version`**:`int`=*`0`*, **\\*\\*`kwargs`**)\n",
       "\n",
       "add file/directory to ipfs\n",
       "\n",
       "||Type|Default|Details|\n",
       "|---|---|---|---|\n",
       "|**`filepath`**|`str`||Path to the file/directory to be added to IPFS|\n",
       "|**`wrap_with_directory`**|`str`|`false`|True if path is a directory|\n",
       "|**`recursive`**|`str`|`false`|Add directory paths recursively|\n",
       "|**`chunker`**|`str`|`size-262144`|Chunking algorithm, size-[bytes], rabin-[min]-[avg]-[max] or buzhash|\n",
       "|**`pin`**|`str`|`true`|Pin this object when adding|\n",
       "|**`hash_`**|`str`|`sha2-256`|Hash function to use. Implies CIDv1 if not sha2-256|\n",
       "|**`progress`**|`str`|`true`|Stream progress data|\n",
       "|**`silent`**|`str`|`false`|Write no output|\n",
       "|**`cid_version`**|`int`|`0`|CID version|\n",
       "|**`kwargs`**|||*No Content*|\n"
      ],
      "text/plain": [
       "<IPython.core.display.Markdown object>"
      ]
     },
     "metadata": {},
     "output_type": "display_data"
    }
   ],
   "source": [
    "show_doc(IPFS.add)"
   ]
  },
  {
   "cell_type": "code",
   "execution_count": null,
   "metadata": {},
   "outputs": [],
   "source": [
    "#hide\n",
    "\n",
    "#         else:\n",
    "#             print(params)\n",
    "#             headers = {\n",
    "#                     'Content-Type': 'application/x-directory',\n",
    "#                     'Content-Disposition': 'form-data'\n",
    "#             }\n",
    "\n",
    "#             files = {str(f.name): open(str(f), 'rb') for f in Path(filepath).ls()}\n",
    "\n",
    "#             response = requests.post('http://127.0.0.1:5001/api/v0/add', \n",
    "#                                      headers=headers, \n",
    "#                                      params=params,\n",
    "#                                      files=files)\n",
    "\n",
    "#             if response.status_code == 200:\n",
    "#                 print(\"Added\", filepath, \"to IPFS - \", \"Response\", response.status_code)\n",
    "#                 return response, json.loads(response.text.split('\\n')[1])\n",
    "\n",
    "#             else:\n",
    "#                 print(response.status_code)\n",
    "                 "
   ]
  },
  {
   "cell_type": "markdown",
   "metadata": {},
   "source": [
    "## How to add file to IPFS "
   ]
  },
  {
   "cell_type": "markdown",
   "metadata": {},
   "source": [
    "### Using local IPFS Node\n",
    "\n",
    "This requires a local IPFS Node to be run\n",
    "\n",
    "Note: Full list of available `params` on `add` function can be found [here](https://docs.ipfs.io/reference/http/api/#api-v0-add)\n",
    "\n",
    "1. Extentiate the api using the `local=True` argument\n",
    "2. Call the `add` function with the `path` to the file\n",
    "3. Check the status of the `response`\n",
    "4. Status 200 indicates the request has been posted (check what other status codes mean [here](https://docs.ipfs.io/reference/http/api/#http-status-codes)\n",
    "5. You can check the file on either `ipfs.io` or `infura.io`"
   ]
  },
  {
   "cell_type": "code",
   "execution_count": null,
   "metadata": {},
   "outputs": [],
   "source": [
    "#ignoretest\n",
    "\n",
    "api = IPFS()"
   ]
  },
  {
   "cell_type": "code",
   "execution_count": null,
   "metadata": {},
   "outputs": [
    {
     "name": "stdout",
     "output_type": "stream",
     "text": [
      "Added ../README.md to IPFS -  Response 200\n"
     ]
    }
   ],
   "source": [
    "#ignoretest\n",
    "\n",
    "response, jsonobject = api.add(\"../README.md\")"
   ]
  },
  {
   "cell_type": "markdown",
   "metadata": {},
   "source": [
    "You can view the added file on [ipfs.io](https://ipfs.io/ipfs/QmfQ5hFqZ2DFUwTfnaPEuVXXSXsq552AXMvjrQtbkQKWLZ)"
   ]
  },
  {
   "cell_type": "markdown",
   "metadata": {},
   "source": [
    "### Using infura.io gateway\n",
    "\n",
    "This works without a local IPFS node running"
   ]
  },
  {
   "cell_type": "code",
   "execution_count": null,
   "metadata": {},
   "outputs": [],
   "source": [
    "api = IPFS(local=False)"
   ]
  },
  {
   "cell_type": "code",
   "execution_count": null,
   "metadata": {},
   "outputs": [
    {
     "name": "stdout",
     "output_type": "stream",
     "text": [
      "Added ../README.md to IPFS -  Response 200\n"
     ]
    }
   ],
   "source": [
    "response, jsonobject = api.add(\"../README.md\")"
   ]
  },
  {
   "cell_type": "code",
   "execution_count": null,
   "metadata": {},
   "outputs": [
    {
     "data": {
      "text/plain": [
       "{'Name': 'README.md',\n",
       " 'Hash': 'QmXPhkw5QTpP4eqNVfAudVDj8waZYTBb4bToHApvRWwXB5',\n",
       " 'Size': '1176'}"
      ]
     },
     "execution_count": null,
     "metadata": {},
     "output_type": "execute_result"
    }
   ],
   "source": [
    "jsonobject"
   ]
  },
  {
   "cell_type": "markdown",
   "metadata": {},
   "source": [
    "You can view the added file on [infura.io](https://ipfs.infura.io/ipfs/QmfQ5hFqZ2DFUwTfnaPEuVXXSXsq552AXMvjrQtbkQKWLZ)"
   ]
  },
  {
   "cell_type": "markdown",
   "metadata": {},
   "source": [
    "## How to add a directory to IPFS"
   ]
  },
  {
   "cell_type": "code",
   "execution_count": null,
   "metadata": {},
   "outputs": [],
   "source": []
  },
  {
   "cell_type": "code",
   "execution_count": null,
   "metadata": {},
   "outputs": [],
   "source": []
  },
  {
   "cell_type": "code",
   "execution_count": null,
   "metadata": {},
   "outputs": [
    {
     "name": "stdout",
     "output_type": "stream",
     "text": [
      "Converted 00_httpapi.ipynb.\n",
      "Converted index.ipynb.\n"
     ]
    }
   ],
   "source": [
    "#|hide\n",
    "from nbdev.export import *\n",
    "notebook2script()"
   ]
  },
  {
   "cell_type": "code",
   "execution_count": null,
   "metadata": {},
   "outputs": [],
   "source": []
  }
 ],
 "metadata": {
  "kernelspec": {
   "display_name": "Python 3 (ipykernel)",
   "language": "python",
   "name": "python3"
  }
 },
 "nbformat": 4,
 "nbformat_minor": 2
}
