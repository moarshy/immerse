{
 "cells": [
  {
   "cell_type": "code",
   "execution_count": null,
   "id": "a2919759",
   "metadata": {},
   "outputs": [],
   "source": [
    "# default_exp utils"
   ]
  },
  {
   "cell_type": "markdown",
   "id": "6dfc4c96",
   "metadata": {},
   "source": [
    "# utils\n",
    "\n",
    "> util functions for the immerse library"
   ]
  },
  {
   "cell_type": "code",
   "execution_count": null,
   "id": "c9a21e7f",
   "metadata": {},
   "outputs": [],
   "source": [
    "#hide\n",
    "from nbdev.showdoc import *"
   ]
  },
  {
   "cell_type": "code",
   "execution_count": null,
   "id": "27331a96",
   "metadata": {},
   "outputs": [],
   "source": [
    "#export\n",
    "import requests\n",
    "import json\n",
    "from fastcore.all import *\n",
    "import pandas as pd"
   ]
  },
  {
   "cell_type": "code",
   "execution_count": null,
   "id": "09026449",
   "metadata": {},
   "outputs": [],
   "source": [
    "#export\n",
    "def get_coreurl(\n",
    "    local:bool=True, # If local uses local node, else uses Infura.io gateway\n",
    "):\n",
    "    'Set the core url for convenience'\n",
    "    if local:\n",
    "        return f\"http://127.0.0.1:5001/api/v0\"\n",
    "    else: \n",
    "        return f\"https://ipfs.infura.io:5001/api/v0\""
   ]
  },
  {
   "cell_type": "code",
   "execution_count": null,
   "id": "698664ee",
   "metadata": {},
   "outputs": [],
   "source": [
    "#export\n",
    "def parse_response(\n",
    "    response, # Response object\n",
    "):\n",
    "    \"Parse response object into JSON\"\n",
    "    \n",
    "    if response.text.split('\\n')[-1] == \"\":\n",
    "        return [json.loads(each) for each in response.text.split('\\n')[:-1]]\n",
    "    \n",
    "    else:\n",
    "        return response.json()"
   ]
  },
  {
   "cell_type": "code",
   "execution_count": null,
   "id": "2914f258",
   "metadata": {},
   "outputs": [
    {
     "name": "stdout",
     "output_type": "stream",
     "text": [
      "Converted 00_utils.ipynb.\n",
      "Converted 01_httpapi.ipynb.\n",
      "Converted index.ipynb.\n"
     ]
    }
   ],
   "source": [
    "#|hide\n",
    "from nbdev.export import *\n",
    "notebook2script()"
   ]
  },
  {
   "cell_type": "code",
   "execution_count": null,
   "id": "51e4f2db",
   "metadata": {},
   "outputs": [],
   "source": []
  }
 ],
 "metadata": {
  "kernelspec": {
   "display_name": "Python 3 (ipykernel)",
   "language": "python",
   "name": "python3"
  }
 },
 "nbformat": 4,
 "nbformat_minor": 5
}
